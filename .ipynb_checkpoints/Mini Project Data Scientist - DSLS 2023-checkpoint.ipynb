{
 "cells": [
  {
   "cell_type": "code",
   "execution_count": 1,
   "id": "8528931b",
   "metadata": {},
   "outputs": [],
   "source": [
    "import os"
   ]
  },
  {
   "cell_type": "code",
   "execution_count": 2,
   "id": "a7668d2e",
   "metadata": {},
   "outputs": [
    {
     "data": {
      "text/plain": [
       "['.ipynb_checkpoints', 'Dataset', 'Untitled.ipynb', 'untitled.txt']"
      ]
     },
     "execution_count": 2,
     "metadata": {},
     "output_type": "execute_result"
    }
   ],
   "source": [
    "os.listdir()"
   ]
  },
  {
   "cell_type": "code",
   "execution_count": 3,
   "id": "7ab1ae48",
   "metadata": {},
   "outputs": [],
   "source": [
    "dataset_path = \"Dataset\""
   ]
  },
  {
   "cell_type": "code",
   "execution_count": 4,
   "id": "24506f1e",
   "metadata": {},
   "outputs": [
    {
     "data": {
      "text/plain": [
       "['aggregate_alerts_Kota Bandung.csv',\n",
       " 'aggregate_alerts_Kota Banjar.csv',\n",
       " 'aggregate_alerts_Kota Bekasi.csv',\n",
       " 'aggregate_alerts_Kota Bogor.csv',\n",
       " 'aggregate_alerts_Kota Cimahi.csv',\n",
       " 'aggregate_alerts_Kota Cirebon.csv',\n",
       " 'aggregate_alerts_Kota Depok.csv',\n",
       " 'aggregate_alerts_Kota Sukabumi.csv',\n",
       " 'aggregate_alerts_Kota Tasikmalaya.csv',\n",
       " 'aggregate_median_irregularities_Kota Bandung.csv',\n",
       " 'aggregate_median_irregularities_Kota Banjar.csv',\n",
       " 'aggregate_median_irregularities_Kota Bekasi.csv',\n",
       " 'aggregate_median_irregularities_Kota Bogor.csv',\n",
       " 'aggregate_median_irregularities_Kota Cimahi.csv',\n",
       " 'aggregate_median_irregularities_Kota Cirebon.csv',\n",
       " 'aggregate_median_irregularities_Kota Sukabumi.csv',\n",
       " 'aggregate_median_irregularities_Kota Tasikmalaya.csv',\n",
       " 'aggregate_median_jams_Kota Bandung_fixed.csv',\n",
       " 'aggregate_median_jams_Kota Banjar.csv',\n",
       " 'aggregate_median_jams_Kota Cirebon.csv',\n",
       " 'aggregate_median_jams_Kota Sukabumi.csv',\n",
       " 'Readme.rtf.docx',\n",
       " 'Waze - Data Dictionary.xlsx',\n",
       " 'Waze for Cities Data - Data Dictionary for Alerts, Jams, and Irregularities.xlsx']"
      ]
     },
     "execution_count": 4,
     "metadata": {},
     "output_type": "execute_result"
    }
   ],
   "source": [
    "os.listdir(dataset_path)"
   ]
  },
  {
   "cell_type": "markdown",
   "id": "b4cb5b81",
   "metadata": {},
   "source": [
    "# Data Understanding"
   ]
  },
  {
   "cell_type": "code",
   "execution_count": 5,
   "id": "f33a7562",
   "metadata": {},
   "outputs": [],
   "source": [
    "import pandas as pd"
   ]
  },
  {
   "cell_type": "code",
   "execution_count": 6,
   "id": "7776103c",
   "metadata": {},
   "outputs": [],
   "source": [
    "df_bandung = pd.read_csv(dataset_path + '/aggregate_alerts_Kota Bandung.csv')"
   ]
  },
  {
   "cell_type": "code",
   "execution_count": 9,
   "id": "c8f25191",
   "metadata": {},
   "outputs": [
    {
     "data": {
      "text/html": [
       "<div>\n",
       "<style scoped>\n",
       "    .dataframe tbody tr th:only-of-type {\n",
       "        vertical-align: middle;\n",
       "    }\n",
       "\n",
       "    .dataframe tbody tr th {\n",
       "        vertical-align: top;\n",
       "    }\n",
       "\n",
       "    .dataframe thead th {\n",
       "        text-align: right;\n",
       "    }\n",
       "</style>\n",
       "<table border=\"1\" class=\"dataframe\">\n",
       "  <thead>\n",
       "    <tr style=\"text-align: right;\">\n",
       "      <th></th>\n",
       "      <th>id</th>\n",
       "      <th>time</th>\n",
       "      <th>kemendagri_kabupaten_kode</th>\n",
       "      <th>kemendagri_kabupaten_nama</th>\n",
       "      <th>street</th>\n",
       "      <th>type</th>\n",
       "      <th>avg_location</th>\n",
       "      <th>total_records</th>\n",
       "      <th>date</th>\n",
       "    </tr>\n",
       "  </thead>\n",
       "  <tbody>\n",
       "    <tr>\n",
       "      <th>3540</th>\n",
       "      <td>5965932</td>\n",
       "      <td>2022-07-14 06:00:00.000</td>\n",
       "      <td>32.73</td>\n",
       "      <td>KOTA BANDUNG</td>\n",
       "      <td>KH Wahid Hasyim</td>\n",
       "      <td>ROAD_CLOSED</td>\n",
       "      <td>[107.58966274999976, -6.945608999999994]</td>\n",
       "      <td>240</td>\n",
       "      <td>2022-07-14</td>\n",
       "    </tr>\n",
       "    <tr>\n",
       "      <th>11293</th>\n",
       "      <td>6036437</td>\n",
       "      <td>2022-07-28 23:00:00.000</td>\n",
       "      <td>32.73</td>\n",
       "      <td>KOTA BANDUNG</td>\n",
       "      <td>Gerbang Tol Gede Bage</td>\n",
       "      <td>ROAD_CLOSED</td>\n",
       "      <td>[107.69057999999981, -6.959956500000005]</td>\n",
       "      <td>114</td>\n",
       "      <td>2022-07-28</td>\n",
       "    </tr>\n",
       "    <tr>\n",
       "      <th>19514</th>\n",
       "      <td>6120892</td>\n",
       "      <td>2022-08-15 07:00:00.000</td>\n",
       "      <td>32.73</td>\n",
       "      <td>KOTA BANDUNG</td>\n",
       "      <td>Margacinta</td>\n",
       "      <td>JAM</td>\n",
       "      <td>[107.652957, -6.955555999999999]</td>\n",
       "      <td>3</td>\n",
       "      <td>2022-08-15</td>\n",
       "    </tr>\n",
       "    <tr>\n",
       "      <th>26509</th>\n",
       "      <td>6181459</td>\n",
       "      <td>2022-08-28 21:00:00.000</td>\n",
       "      <td>32.73</td>\n",
       "      <td>KOTA BANDUNG</td>\n",
       "      <td>Setra Duta Dago 1</td>\n",
       "      <td>WEATHERHAZARD</td>\n",
       "      <td>[107.56852900000007, -6.8708110000000024]</td>\n",
       "      <td>60</td>\n",
       "      <td>2022-08-28</td>\n",
       "    </tr>\n",
       "    <tr>\n",
       "      <th>8231</th>\n",
       "      <td>6012959</td>\n",
       "      <td>2022-07-23 03:00:00.000</td>\n",
       "      <td>32.73</td>\n",
       "      <td>KOTA BANDUNG</td>\n",
       "      <td>N11 Flyover Kopo-Cibaduyut</td>\n",
       "      <td>ROAD_CLOSED</td>\n",
       "      <td>[107.59261600000008, -6.946127500000001]</td>\n",
       "      <td>120</td>\n",
       "      <td>2022-07-23</td>\n",
       "    </tr>\n",
       "  </tbody>\n",
       "</table>\n",
       "</div>"
      ],
      "text/plain": [
       "            id                     time  kemendagri_kabupaten_kode  \\\n",
       "3540   5965932  2022-07-14 06:00:00.000                      32.73   \n",
       "11293  6036437  2022-07-28 23:00:00.000                      32.73   \n",
       "19514  6120892  2022-08-15 07:00:00.000                      32.73   \n",
       "26509  6181459  2022-08-28 21:00:00.000                      32.73   \n",
       "8231   6012959  2022-07-23 03:00:00.000                      32.73   \n",
       "\n",
       "      kemendagri_kabupaten_nama                      street           type  \\\n",
       "3540               KOTA BANDUNG             KH Wahid Hasyim    ROAD_CLOSED   \n",
       "11293              KOTA BANDUNG       Gerbang Tol Gede Bage    ROAD_CLOSED   \n",
       "19514              KOTA BANDUNG                  Margacinta            JAM   \n",
       "26509              KOTA BANDUNG           Setra Duta Dago 1  WEATHERHAZARD   \n",
       "8231               KOTA BANDUNG  N11 Flyover Kopo-Cibaduyut    ROAD_CLOSED   \n",
       "\n",
       "                                    avg_location  total_records        date  \n",
       "3540    [107.58966274999976, -6.945608999999994]            240  2022-07-14  \n",
       "11293   [107.69057999999981, -6.959956500000005]            114  2022-07-28  \n",
       "19514           [107.652957, -6.955555999999999]              3  2022-08-15  \n",
       "26509  [107.56852900000007, -6.8708110000000024]             60  2022-08-28  \n",
       "8231    [107.59261600000008, -6.946127500000001]            120  2022-07-23  "
      ]
     },
     "execution_count": 9,
     "metadata": {},
     "output_type": "execute_result"
    }
   ],
   "source": [
    "df_bandung.sample(5)"
   ]
  },
  {
   "cell_type": "code",
   "execution_count": 8,
   "id": "d17cad59",
   "metadata": {},
   "outputs": [
    {
     "data": {
      "text/plain": [
       "(30385, 9)"
      ]
     },
     "execution_count": 8,
     "metadata": {},
     "output_type": "execute_result"
    }
   ],
   "source": [
    "df_bandung.shape"
   ]
  },
  {
   "cell_type": "code",
   "execution_count": 10,
   "id": "c9c341e7",
   "metadata": {},
   "outputs": [
    {
     "name": "stdout",
     "output_type": "stream",
     "text": [
      "<class 'pandas.core.frame.DataFrame'>\n",
      "RangeIndex: 30385 entries, 0 to 30384\n",
      "Data columns (total 9 columns):\n",
      " #   Column                     Non-Null Count  Dtype  \n",
      "---  ------                     --------------  -----  \n",
      " 0   id                         30385 non-null  int64  \n",
      " 1   time                       30385 non-null  object \n",
      " 2   kemendagri_kabupaten_kode  30385 non-null  float64\n",
      " 3   kemendagri_kabupaten_nama  30385 non-null  object \n",
      " 4   street                     28496 non-null  object \n",
      " 5   type                       30385 non-null  object \n",
      " 6   avg_location               30385 non-null  object \n",
      " 7   total_records              30385 non-null  int64  \n",
      " 8   date                       30385 non-null  object \n",
      "dtypes: float64(1), int64(2), object(6)\n",
      "memory usage: 2.1+ MB\n"
     ]
    }
   ],
   "source": [
    "df_bandung.info()"
   ]
  },
  {
   "cell_type": "code",
   "execution_count": 12,
   "id": "4ee59c4b",
   "metadata": {},
   "outputs": [],
   "source": [
    "df_bandung[\"time\"] = pd.to_datetime(df_bandung[\"time\"])"
   ]
  },
  {
   "cell_type": "code",
   "execution_count": 13,
   "id": "7ca3cb81",
   "metadata": {},
   "outputs": [
    {
     "name": "stdout",
     "output_type": "stream",
     "text": [
      "<class 'pandas.core.frame.DataFrame'>\n",
      "RangeIndex: 30385 entries, 0 to 30384\n",
      "Data columns (total 9 columns):\n",
      " #   Column                     Non-Null Count  Dtype         \n",
      "---  ------                     --------------  -----         \n",
      " 0   id                         30385 non-null  int64         \n",
      " 1   time                       30385 non-null  datetime64[ns]\n",
      " 2   kemendagri_kabupaten_kode  30385 non-null  float64       \n",
      " 3   kemendagri_kabupaten_nama  30385 non-null  object        \n",
      " 4   street                     28496 non-null  object        \n",
      " 5   type                       30385 non-null  object        \n",
      " 6   avg_location               30385 non-null  object        \n",
      " 7   total_records              30385 non-null  int64         \n",
      " 8   date                       30385 non-null  object        \n",
      "dtypes: datetime64[ns](1), float64(1), int64(2), object(5)\n",
      "memory usage: 2.1+ MB\n"
     ]
    }
   ],
   "source": [
    "df_bandung.info()"
   ]
  },
  {
   "cell_type": "code",
   "execution_count": 14,
   "id": "2aa73b49",
   "metadata": {},
   "outputs": [
    {
     "data": {
      "text/html": [
       "<div>\n",
       "<style scoped>\n",
       "    .dataframe tbody tr th:only-of-type {\n",
       "        vertical-align: middle;\n",
       "    }\n",
       "\n",
       "    .dataframe tbody tr th {\n",
       "        vertical-align: top;\n",
       "    }\n",
       "\n",
       "    .dataframe thead th {\n",
       "        text-align: right;\n",
       "    }\n",
       "</style>\n",
       "<table border=\"1\" class=\"dataframe\">\n",
       "  <thead>\n",
       "    <tr style=\"text-align: right;\">\n",
       "      <th></th>\n",
       "      <th>id</th>\n",
       "      <th>time</th>\n",
       "      <th>kemendagri_kabupaten_kode</th>\n",
       "      <th>kemendagri_kabupaten_nama</th>\n",
       "      <th>street</th>\n",
       "      <th>type</th>\n",
       "      <th>avg_location</th>\n",
       "      <th>total_records</th>\n",
       "      <th>date</th>\n",
       "    </tr>\n",
       "  </thead>\n",
       "  <tbody>\n",
       "    <tr>\n",
       "      <th>7454</th>\n",
       "      <td>6003613</td>\n",
       "      <td>2022-07-21 15:00:00</td>\n",
       "      <td>32.73</td>\n",
       "      <td>KOTA BANDUNG</td>\n",
       "      <td>Cibaduyut Raya</td>\n",
       "      <td>ROAD_CLOSED</td>\n",
       "      <td>[107.59526000000004, -6.9472129999999925]</td>\n",
       "      <td>60</td>\n",
       "      <td>2022-07-21</td>\n",
       "    </tr>\n",
       "    <tr>\n",
       "      <th>17346</th>\n",
       "      <td>6097434</td>\n",
       "      <td>2022-08-10 17:00:00</td>\n",
       "      <td>32.73</td>\n",
       "      <td>KOTA BANDUNG</td>\n",
       "      <td>Prof Dr Surya Sumantri</td>\n",
       "      <td>JAM</td>\n",
       "      <td>[107.58145405128202, -6.890741794871792]</td>\n",
       "      <td>39</td>\n",
       "      <td>2022-08-10</td>\n",
       "    </tr>\n",
       "    <tr>\n",
       "      <th>23862</th>\n",
       "      <td>6160593</td>\n",
       "      <td>2022-08-24 07:00:00</td>\n",
       "      <td>32.73</td>\n",
       "      <td>KOTA BANDUNG</td>\n",
       "      <td>Akses Tol Pasteur</td>\n",
       "      <td>JAM</td>\n",
       "      <td>[107.579792, -6.891725000000002]</td>\n",
       "      <td>31</td>\n",
       "      <td>2022-08-24</td>\n",
       "    </tr>\n",
       "    <tr>\n",
       "      <th>24508</th>\n",
       "      <td>6165410</td>\n",
       "      <td>2022-08-25 16:00:00</td>\n",
       "      <td>32.73</td>\n",
       "      <td>KOTA BANDUNG</td>\n",
       "      <td>Tol Padaleunyi</td>\n",
       "      <td>WEATHERHAZARD</td>\n",
       "      <td>[107.59101767741939, -6.9491469892473114]</td>\n",
       "      <td>93</td>\n",
       "      <td>2022-08-25</td>\n",
       "    </tr>\n",
       "    <tr>\n",
       "      <th>12629</th>\n",
       "      <td>6051462</td>\n",
       "      <td>2022-07-31 12:00:00</td>\n",
       "      <td>32.73</td>\n",
       "      <td>KOTA BANDUNG</td>\n",
       "      <td>N11 Flyover Kopo-Cibaduyut</td>\n",
       "      <td>ROAD_CLOSED</td>\n",
       "      <td>[107.59261600000006, -6.946127500000002]</td>\n",
       "      <td>120</td>\n",
       "      <td>2022-07-31</td>\n",
       "    </tr>\n",
       "  </tbody>\n",
       "</table>\n",
       "</div>"
      ],
      "text/plain": [
       "            id                time  kemendagri_kabupaten_kode  \\\n",
       "7454   6003613 2022-07-21 15:00:00                      32.73   \n",
       "17346  6097434 2022-08-10 17:00:00                      32.73   \n",
       "23862  6160593 2022-08-24 07:00:00                      32.73   \n",
       "24508  6165410 2022-08-25 16:00:00                      32.73   \n",
       "12629  6051462 2022-07-31 12:00:00                      32.73   \n",
       "\n",
       "      kemendagri_kabupaten_nama                      street           type  \\\n",
       "7454               KOTA BANDUNG              Cibaduyut Raya    ROAD_CLOSED   \n",
       "17346              KOTA BANDUNG      Prof Dr Surya Sumantri            JAM   \n",
       "23862              KOTA BANDUNG           Akses Tol Pasteur            JAM   \n",
       "24508              KOTA BANDUNG              Tol Padaleunyi  WEATHERHAZARD   \n",
       "12629              KOTA BANDUNG  N11 Flyover Kopo-Cibaduyut    ROAD_CLOSED   \n",
       "\n",
       "                                    avg_location  total_records        date  \n",
       "7454   [107.59526000000004, -6.9472129999999925]             60  2022-07-21  \n",
       "17346   [107.58145405128202, -6.890741794871792]             39  2022-08-10  \n",
       "23862           [107.579792, -6.891725000000002]             31  2022-08-24  \n",
       "24508  [107.59101767741939, -6.9491469892473114]             93  2022-08-25  \n",
       "12629   [107.59261600000006, -6.946127500000002]            120  2022-07-31  "
      ]
     },
     "execution_count": 14,
     "metadata": {},
     "output_type": "execute_result"
    }
   ],
   "source": [
    "df_bandung.sample(5)"
   ]
  },
  {
   "cell_type": "code",
   "execution_count": 15,
   "id": "3f01307e",
   "metadata": {},
   "outputs": [
    {
     "data": {
      "text/plain": [
       "id                              0\n",
       "time                            0\n",
       "kemendagri_kabupaten_kode       0\n",
       "kemendagri_kabupaten_nama       0\n",
       "street                       1889\n",
       "type                            0\n",
       "avg_location                    0\n",
       "total_records                   0\n",
       "date                            0\n",
       "dtype: int64"
      ]
     },
     "execution_count": 15,
     "metadata": {},
     "output_type": "execute_result"
    }
   ],
   "source": [
    "df_bandung.isnull().sum()"
   ]
  },
  {
   "cell_type": "markdown",
   "id": "09fcf51e",
   "metadata": {},
   "source": [
    "# Data Cleansing & Preprocessing"
   ]
  },
  {
   "cell_type": "markdown",
   "id": "6b758501",
   "metadata": {},
   "source": [
    "Drop missing value"
   ]
  },
  {
   "cell_type": "code",
   "execution_count": 16,
   "id": "4b5c9d39",
   "metadata": {},
   "outputs": [
    {
     "name": "stdout",
     "output_type": "stream",
     "text": [
      "<class 'pandas.core.frame.DataFrame'>\n",
      "Int64Index: 28496 entries, 0 to 30383\n",
      "Data columns (total 9 columns):\n",
      " #   Column                     Non-Null Count  Dtype         \n",
      "---  ------                     --------------  -----         \n",
      " 0   id                         28496 non-null  int64         \n",
      " 1   time                       28496 non-null  datetime64[ns]\n",
      " 2   kemendagri_kabupaten_kode  28496 non-null  float64       \n",
      " 3   kemendagri_kabupaten_nama  28496 non-null  object        \n",
      " 4   street                     28496 non-null  object        \n",
      " 5   type                       28496 non-null  object        \n",
      " 6   avg_location               28496 non-null  object        \n",
      " 7   total_records              28496 non-null  int64         \n",
      " 8   date                       28496 non-null  object        \n",
      "dtypes: datetime64[ns](1), float64(1), int64(2), object(5)\n",
      "memory usage: 2.2+ MB\n"
     ]
    }
   ],
   "source": [
    "df_bandung.dropna(inplace = True)\n",
    "df_bandung.info()"
   ]
  },
  {
   "cell_type": "markdown",
   "id": "15e286b8",
   "metadata": {},
   "source": [
    "Mengambil data pada waktu weekend"
   ]
  },
  {
   "cell_type": "code",
   "execution_count": 17,
   "id": "65636747",
   "metadata": {},
   "outputs": [
    {
     "data": {
      "text/plain": [
       "Timestamp('2022-07-06 00:00:00')"
      ]
     },
     "execution_count": 17,
     "metadata": {},
     "output_type": "execute_result"
    }
   ],
   "source": [
    "df_bandung.time.min()"
   ]
  },
  {
   "cell_type": "code",
   "execution_count": 18,
   "id": "a8484e25",
   "metadata": {},
   "outputs": [
    {
     "data": {
      "text/plain": [
       "Timestamp('2022-09-06 00:00:00')"
      ]
     },
     "execution_count": 18,
     "metadata": {},
     "output_type": "execute_result"
    }
   ],
   "source": [
    "df_bandung.time.max()"
   ]
  },
  {
   "cell_type": "code",
   "execution_count": null,
   "id": "10212d3e",
   "metadata": {},
   "outputs": [],
   "source": [
    "week"
   ]
  }
 ],
 "metadata": {
  "kernelspec": {
   "display_name": "Python 3 (ipykernel)",
   "language": "python",
   "name": "python3"
  },
  "language_info": {
   "codemirror_mode": {
    "name": "ipython",
    "version": 3
   },
   "file_extension": ".py",
   "mimetype": "text/x-python",
   "name": "python",
   "nbconvert_exporter": "python",
   "pygments_lexer": "ipython3",
   "version": "3.9.12"
  },
  "toc": {
   "base_numbering": 1,
   "nav_menu": {},
   "number_sections": true,
   "sideBar": true,
   "skip_h1_title": false,
   "title_cell": "Table of Contents",
   "title_sidebar": "Contents",
   "toc_cell": false,
   "toc_position": {},
   "toc_section_display": true,
   "toc_window_display": false
  },
  "varInspector": {
   "cols": {
    "lenName": 16,
    "lenType": 16,
    "lenVar": 40
   },
   "kernels_config": {
    "python": {
     "delete_cmd_postfix": "",
     "delete_cmd_prefix": "del ",
     "library": "var_list.py",
     "varRefreshCmd": "print(var_dic_list())"
    },
    "r": {
     "delete_cmd_postfix": ") ",
     "delete_cmd_prefix": "rm(",
     "library": "var_list.r",
     "varRefreshCmd": "cat(var_dic_list()) "
    }
   },
   "types_to_exclude": [
    "module",
    "function",
    "builtin_function_or_method",
    "instance",
    "_Feature"
   ],
   "window_display": false
  }
 },
 "nbformat": 4,
 "nbformat_minor": 5
}

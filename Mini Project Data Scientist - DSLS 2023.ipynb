{
 "cells": [
  {
   "cell_type": "code",
   "execution_count": 1,
   "id": "3007aa2d",
   "metadata": {},
   "outputs": [],
   "source": [
    "import os"
   ]
  },
  {
   "cell_type": "code",
   "execution_count": 2,
   "id": "e0d0390c",
   "metadata": {},
   "outputs": [
    {
     "data": {
      "text/plain": [
       "['.git',\n",
       " '.ipynb_checkpoints',\n",
       " 'Dataset',\n",
       " 'Mini Project Data Scientist - DSLS 2023.ipynb']"
      ]
     },
     "execution_count": 2,
     "metadata": {},
     "output_type": "execute_result"
    }
   ],
   "source": [
    "os.listdir()"
   ]
  },
  {
   "cell_type": "code",
   "execution_count": 3,
   "id": "005db72e",
   "metadata": {},
   "outputs": [],
   "source": [
    "dataset_path = \"Dataset\""
   ]
  },
  {
   "cell_type": "code",
   "execution_count": 4,
   "id": "2b4205f5",
   "metadata": {},
   "outputs": [
    {
     "data": {
      "text/plain": [
       "['aggregate_alerts_Kota Bandung.csv',\n",
       " 'aggregate_alerts_Kota Banjar.csv',\n",
       " 'aggregate_alerts_Kota Bekasi.csv',\n",
       " 'aggregate_alerts_Kota Bogor.csv',\n",
       " 'aggregate_alerts_Kota Cimahi.csv',\n",
       " 'aggregate_alerts_Kota Cirebon.csv',\n",
       " 'aggregate_alerts_Kota Depok.csv',\n",
       " 'aggregate_alerts_Kota Sukabumi.csv',\n",
       " 'aggregate_alerts_Kota Tasikmalaya.csv',\n",
       " 'aggregate_median_irregularities_Kota Banjar.csv',\n",
       " 'aggregate_median_irregularities_Kota Bogor.csv',\n",
       " 'aggregate_median_irregularities_Kota Cimahi.csv',\n",
       " 'aggregate_median_irregularities_Kota Cirebon.csv',\n",
       " 'aggregate_median_irregularities_Kota Sukabumi.csv',\n",
       " 'aggregate_median_irregularities_Kota Tasikmalaya.csv',\n",
       " 'aggregate_median_jams_Kota Banjar.csv',\n",
       " 'aggregate_median_jams_Kota Cirebon.csv',\n",
       " 'aggregate_median_jams_Kota Sukabumi.csv',\n",
       " 'Readme.rtf.docx',\n",
       " 'Waze - Data Dictionary.xlsx',\n",
       " 'Waze for Cities Data - Data Dictionary for Alerts, Jams, and Irregularities.xlsx']"
      ]
     },
     "execution_count": 4,
     "metadata": {},
     "output_type": "execute_result"
    }
   ],
   "source": [
    "os.listdir(dataset_path)"
   ]
  },
  {
   "cell_type": "markdown",
   "id": "ea64fac3",
   "metadata": {},
   "source": [
    "# Data Understanding"
   ]
  },
  {
   "cell_type": "code",
   "execution_count": 5,
   "id": "05ab3780",
   "metadata": {},
   "outputs": [],
   "source": [
    "import pandas as pd"
   ]
  },
  {
   "cell_type": "code",
   "execution_count": 6,
   "id": "f7dfa71d",
   "metadata": {},
   "outputs": [],
   "source": [
    "df_bandung = pd.read_csv(dataset_path + '/aggregate_alerts_Kota Bandung.csv')"
   ]
  },
  {
   "cell_type": "code",
   "execution_count": 7,
   "id": "62727f82",
   "metadata": {},
   "outputs": [
    {
     "data": {
      "text/html": [
       "<div>\n",
       "<style scoped>\n",
       "    .dataframe tbody tr th:only-of-type {\n",
       "        vertical-align: middle;\n",
       "    }\n",
       "\n",
       "    .dataframe tbody tr th {\n",
       "        vertical-align: top;\n",
       "    }\n",
       "\n",
       "    .dataframe thead th {\n",
       "        text-align: right;\n",
       "    }\n",
       "</style>\n",
       "<table border=\"1\" class=\"dataframe\">\n",
       "  <thead>\n",
       "    <tr style=\"text-align: right;\">\n",
       "      <th></th>\n",
       "      <th>id</th>\n",
       "      <th>time</th>\n",
       "      <th>kemendagri_kabupaten_kode</th>\n",
       "      <th>kemendagri_kabupaten_nama</th>\n",
       "      <th>street</th>\n",
       "      <th>type</th>\n",
       "      <th>avg_location</th>\n",
       "      <th>total_records</th>\n",
       "      <th>date</th>\n",
       "    </tr>\n",
       "  </thead>\n",
       "  <tbody>\n",
       "    <tr>\n",
       "      <th>1771</th>\n",
       "      <td>5944486</td>\n",
       "      <td>2022-07-09 14:00:00.000</td>\n",
       "      <td>32.73</td>\n",
       "      <td>KOTA BANDUNG</td>\n",
       "      <td>Dr Djundjunan</td>\n",
       "      <td>JAM</td>\n",
       "      <td>[107.58852766666661, -6.895236433333334]</td>\n",
       "      <td>60</td>\n",
       "      <td>2022-07-09</td>\n",
       "    </tr>\n",
       "    <tr>\n",
       "      <th>15710</th>\n",
       "      <td>6079982</td>\n",
       "      <td>2022-08-06 20:00:00.000</td>\n",
       "      <td>32.73</td>\n",
       "      <td>KOTA BANDUNG</td>\n",
       "      <td>Jalan ABC</td>\n",
       "      <td>JAM</td>\n",
       "      <td>[107.607305, -6.919012000000002]</td>\n",
       "      <td>28</td>\n",
       "      <td>2022-08-06</td>\n",
       "    </tr>\n",
       "    <tr>\n",
       "      <th>6223</th>\n",
       "      <td>5989702</td>\n",
       "      <td>2022-07-18 17:00:00.000</td>\n",
       "      <td>32.73</td>\n",
       "      <td>KOTA BANDUNG</td>\n",
       "      <td>Batununggal Indah 2</td>\n",
       "      <td>WEATHERHAZARD</td>\n",
       "      <td>[107.62623600000005, -6.962266999999998]</td>\n",
       "      <td>60</td>\n",
       "      <td>2022-07-18</td>\n",
       "    </tr>\n",
       "    <tr>\n",
       "      <th>10202</th>\n",
       "      <td>6027245</td>\n",
       "      <td>2022-07-26 10:00:00.000</td>\n",
       "      <td>32.73</td>\n",
       "      <td>KOTA BANDUNG</td>\n",
       "      <td>Laswi</td>\n",
       "      <td>JAM</td>\n",
       "      <td>[107.630912, -6.920436]</td>\n",
       "      <td>1</td>\n",
       "      <td>2022-07-26</td>\n",
       "    </tr>\n",
       "    <tr>\n",
       "      <th>991</th>\n",
       "      <td>5939697</td>\n",
       "      <td>2022-07-08 04:00:00.000</td>\n",
       "      <td>32.73</td>\n",
       "      <td>KOTA BANDUNG</td>\n",
       "      <td>Gerbang Tol Gede Bage</td>\n",
       "      <td>ROAD_CLOSED</td>\n",
       "      <td>[107.6905799999998, -6.959956500000006]</td>\n",
       "      <td>120</td>\n",
       "      <td>2022-07-08</td>\n",
       "    </tr>\n",
       "  </tbody>\n",
       "</table>\n",
       "</div>"
      ],
      "text/plain": [
       "            id                     time  kemendagri_kabupaten_kode  \\\n",
       "1771   5944486  2022-07-09 14:00:00.000                      32.73   \n",
       "15710  6079982  2022-08-06 20:00:00.000                      32.73   \n",
       "6223   5989702  2022-07-18 17:00:00.000                      32.73   \n",
       "10202  6027245  2022-07-26 10:00:00.000                      32.73   \n",
       "991    5939697  2022-07-08 04:00:00.000                      32.73   \n",
       "\n",
       "      kemendagri_kabupaten_nama                 street           type  \\\n",
       "1771               KOTA BANDUNG          Dr Djundjunan            JAM   \n",
       "15710              KOTA BANDUNG              Jalan ABC            JAM   \n",
       "6223               KOTA BANDUNG    Batununggal Indah 2  WEATHERHAZARD   \n",
       "10202              KOTA BANDUNG                  Laswi            JAM   \n",
       "991                KOTA BANDUNG  Gerbang Tol Gede Bage    ROAD_CLOSED   \n",
       "\n",
       "                                   avg_location  total_records        date  \n",
       "1771   [107.58852766666661, -6.895236433333334]             60  2022-07-09  \n",
       "15710          [107.607305, -6.919012000000002]             28  2022-08-06  \n",
       "6223   [107.62623600000005, -6.962266999999998]             60  2022-07-18  \n",
       "10202                   [107.630912, -6.920436]              1  2022-07-26  \n",
       "991     [107.6905799999998, -6.959956500000006]            120  2022-07-08  "
      ]
     },
     "execution_count": 7,
     "metadata": {},
     "output_type": "execute_result"
    }
   ],
   "source": [
    "df_bandung.sample(5)"
   ]
  },
  {
   "cell_type": "code",
   "execution_count": 8,
   "id": "9a1d8dd0",
   "metadata": {},
   "outputs": [
    {
     "data": {
      "text/plain": [
       "(30385, 9)"
      ]
     },
     "execution_count": 8,
     "metadata": {},
     "output_type": "execute_result"
    }
   ],
   "source": [
    "df_bandung.shape"
   ]
  },
  {
   "cell_type": "code",
   "execution_count": 9,
   "id": "daa0d464",
   "metadata": {},
   "outputs": [
    {
     "name": "stdout",
     "output_type": "stream",
     "text": [
      "<class 'pandas.core.frame.DataFrame'>\n",
      "RangeIndex: 30385 entries, 0 to 30384\n",
      "Data columns (total 9 columns):\n",
      " #   Column                     Non-Null Count  Dtype  \n",
      "---  ------                     --------------  -----  \n",
      " 0   id                         30385 non-null  int64  \n",
      " 1   time                       30385 non-null  object \n",
      " 2   kemendagri_kabupaten_kode  30385 non-null  float64\n",
      " 3   kemendagri_kabupaten_nama  30385 non-null  object \n",
      " 4   street                     28496 non-null  object \n",
      " 5   type                       30385 non-null  object \n",
      " 6   avg_location               30385 non-null  object \n",
      " 7   total_records              30385 non-null  int64  \n",
      " 8   date                       30385 non-null  object \n",
      "dtypes: float64(1), int64(2), object(6)\n",
      "memory usage: 2.1+ MB\n"
     ]
    }
   ],
   "source": [
    "df_bandung.info()"
   ]
  },
  {
   "cell_type": "code",
   "execution_count": 10,
   "id": "084d4495",
   "metadata": {},
   "outputs": [],
   "source": [
    "df_bandung[\"time\"] = pd.to_datetime(df_bandung[\"time\"])"
   ]
  },
  {
   "cell_type": "code",
   "execution_count": 11,
   "id": "0b2d1ed9",
   "metadata": {},
   "outputs": [
    {
     "name": "stdout",
     "output_type": "stream",
     "text": [
      "<class 'pandas.core.frame.DataFrame'>\n",
      "RangeIndex: 30385 entries, 0 to 30384\n",
      "Data columns (total 9 columns):\n",
      " #   Column                     Non-Null Count  Dtype         \n",
      "---  ------                     --------------  -----         \n",
      " 0   id                         30385 non-null  int64         \n",
      " 1   time                       30385 non-null  datetime64[ns]\n",
      " 2   kemendagri_kabupaten_kode  30385 non-null  float64       \n",
      " 3   kemendagri_kabupaten_nama  30385 non-null  object        \n",
      " 4   street                     28496 non-null  object        \n",
      " 5   type                       30385 non-null  object        \n",
      " 6   avg_location               30385 non-null  object        \n",
      " 7   total_records              30385 non-null  int64         \n",
      " 8   date                       30385 non-null  object        \n",
      "dtypes: datetime64[ns](1), float64(1), int64(2), object(5)\n",
      "memory usage: 2.1+ MB\n"
     ]
    }
   ],
   "source": [
    "df_bandung.info()"
   ]
  },
  {
   "cell_type": "code",
   "execution_count": 12,
   "id": "aaaf341a",
   "metadata": {},
   "outputs": [
    {
     "data": {
      "text/html": [
       "<div>\n",
       "<style scoped>\n",
       "    .dataframe tbody tr th:only-of-type {\n",
       "        vertical-align: middle;\n",
       "    }\n",
       "\n",
       "    .dataframe tbody tr th {\n",
       "        vertical-align: top;\n",
       "    }\n",
       "\n",
       "    .dataframe thead th {\n",
       "        text-align: right;\n",
       "    }\n",
       "</style>\n",
       "<table border=\"1\" class=\"dataframe\">\n",
       "  <thead>\n",
       "    <tr style=\"text-align: right;\">\n",
       "      <th></th>\n",
       "      <th>id</th>\n",
       "      <th>time</th>\n",
       "      <th>kemendagri_kabupaten_kode</th>\n",
       "      <th>kemendagri_kabupaten_nama</th>\n",
       "      <th>street</th>\n",
       "      <th>type</th>\n",
       "      <th>avg_location</th>\n",
       "      <th>total_records</th>\n",
       "      <th>date</th>\n",
       "    </tr>\n",
       "  </thead>\n",
       "  <tbody>\n",
       "    <tr>\n",
       "      <th>16443</th>\n",
       "      <td>6088599</td>\n",
       "      <td>2022-08-08 14:00:00</td>\n",
       "      <td>32.73</td>\n",
       "      <td>KOTA BANDUNG</td>\n",
       "      <td>NaN</td>\n",
       "      <td>ACCIDENT</td>\n",
       "      <td>[107.6635213076924, -6.905929153846158]</td>\n",
       "      <td>65</td>\n",
       "      <td>2022-08-08</td>\n",
       "    </tr>\n",
       "    <tr>\n",
       "      <th>12052</th>\n",
       "      <td>6046528</td>\n",
       "      <td>2022-07-30 12:00:00</td>\n",
       "      <td>32.73</td>\n",
       "      <td>KOTA BANDUNG</td>\n",
       "      <td>Gerbang Tol Pasteur 2</td>\n",
       "      <td>JAM</td>\n",
       "      <td>[107.57431999999996, -6.890595]</td>\n",
       "      <td>12</td>\n",
       "      <td>2022-07-30</td>\n",
       "    </tr>\n",
       "    <tr>\n",
       "      <th>1163</th>\n",
       "      <td>5939871</td>\n",
       "      <td>2022-07-08 14:00:00</td>\n",
       "      <td>32.73</td>\n",
       "      <td>KOTA BANDUNG</td>\n",
       "      <td>Gerbang Tol Pasteur 2</td>\n",
       "      <td>JAM</td>\n",
       "      <td>[107.574245, -6.89058]</td>\n",
       "      <td>2</td>\n",
       "      <td>2022-07-08</td>\n",
       "    </tr>\n",
       "    <tr>\n",
       "      <th>21752</th>\n",
       "      <td>6138495</td>\n",
       "      <td>2022-08-19 17:00:00</td>\n",
       "      <td>32.73</td>\n",
       "      <td>KOTA BANDUNG</td>\n",
       "      <td>Sadang Serang</td>\n",
       "      <td>JAM</td>\n",
       "      <td>[107.62572381250003, -6.889035479166665]</td>\n",
       "      <td>48</td>\n",
       "      <td>2022-08-19</td>\n",
       "    </tr>\n",
       "    <tr>\n",
       "      <th>13856</th>\n",
       "      <td>6065153</td>\n",
       "      <td>2022-08-03 06:00:00</td>\n",
       "      <td>32.73</td>\n",
       "      <td>KOTA BANDUNG</td>\n",
       "      <td>Leuwipanjang</td>\n",
       "      <td>ROAD_CLOSED</td>\n",
       "      <td>[107.595139, -6.947390999999995]</td>\n",
       "      <td>60</td>\n",
       "      <td>2022-08-03</td>\n",
       "    </tr>\n",
       "  </tbody>\n",
       "</table>\n",
       "</div>"
      ],
      "text/plain": [
       "            id                time  kemendagri_kabupaten_kode  \\\n",
       "16443  6088599 2022-08-08 14:00:00                      32.73   \n",
       "12052  6046528 2022-07-30 12:00:00                      32.73   \n",
       "1163   5939871 2022-07-08 14:00:00                      32.73   \n",
       "21752  6138495 2022-08-19 17:00:00                      32.73   \n",
       "13856  6065153 2022-08-03 06:00:00                      32.73   \n",
       "\n",
       "      kemendagri_kabupaten_nama                 street         type  \\\n",
       "16443              KOTA BANDUNG                    NaN     ACCIDENT   \n",
       "12052              KOTA BANDUNG  Gerbang Tol Pasteur 2          JAM   \n",
       "1163               KOTA BANDUNG  Gerbang Tol Pasteur 2          JAM   \n",
       "21752              KOTA BANDUNG          Sadang Serang          JAM   \n",
       "13856              KOTA BANDUNG           Leuwipanjang  ROAD_CLOSED   \n",
       "\n",
       "                                   avg_location  total_records        date  \n",
       "16443   [107.6635213076924, -6.905929153846158]             65  2022-08-08  \n",
       "12052           [107.57431999999996, -6.890595]             12  2022-07-30  \n",
       "1163                     [107.574245, -6.89058]              2  2022-07-08  \n",
       "21752  [107.62572381250003, -6.889035479166665]             48  2022-08-19  \n",
       "13856          [107.595139, -6.947390999999995]             60  2022-08-03  "
      ]
     },
     "execution_count": 12,
     "metadata": {},
     "output_type": "execute_result"
    }
   ],
   "source": [
    "df_bandung.sample(5)"
   ]
  },
  {
   "cell_type": "code",
   "execution_count": 13,
   "id": "23b162cb",
   "metadata": {},
   "outputs": [
    {
     "data": {
      "text/plain": [
       "id                              0\n",
       "time                            0\n",
       "kemendagri_kabupaten_kode       0\n",
       "kemendagri_kabupaten_nama       0\n",
       "street                       1889\n",
       "type                            0\n",
       "avg_location                    0\n",
       "total_records                   0\n",
       "date                            0\n",
       "dtype: int64"
      ]
     },
     "execution_count": 13,
     "metadata": {},
     "output_type": "execute_result"
    }
   ],
   "source": [
    "df_bandung.isnull().sum()"
   ]
  },
  {
   "cell_type": "markdown",
   "id": "4e1de9ce",
   "metadata": {},
   "source": [
    "# Data Cleansing & Preprocessing"
   ]
  },
  {
   "cell_type": "markdown",
   "id": "453dbe93",
   "metadata": {},
   "source": [
    "Drop missing value"
   ]
  },
  {
   "cell_type": "code",
   "execution_count": 14,
   "id": "0c601cda",
   "metadata": {},
   "outputs": [
    {
     "name": "stdout",
     "output_type": "stream",
     "text": [
      "<class 'pandas.core.frame.DataFrame'>\n",
      "Int64Index: 28496 entries, 0 to 30383\n",
      "Data columns (total 9 columns):\n",
      " #   Column                     Non-Null Count  Dtype         \n",
      "---  ------                     --------------  -----         \n",
      " 0   id                         28496 non-null  int64         \n",
      " 1   time                       28496 non-null  datetime64[ns]\n",
      " 2   kemendagri_kabupaten_kode  28496 non-null  float64       \n",
      " 3   kemendagri_kabupaten_nama  28496 non-null  object        \n",
      " 4   street                     28496 non-null  object        \n",
      " 5   type                       28496 non-null  object        \n",
      " 6   avg_location               28496 non-null  object        \n",
      " 7   total_records              28496 non-null  int64         \n",
      " 8   date                       28496 non-null  object        \n",
      "dtypes: datetime64[ns](1), float64(1), int64(2), object(5)\n",
      "memory usage: 2.2+ MB\n"
     ]
    }
   ],
   "source": [
    "df_bandung.dropna(inplace = True)\n",
    "df_bandung.info()"
   ]
  },
  {
   "cell_type": "markdown",
   "id": "290fea10",
   "metadata": {},
   "source": [
    "Mengambil data pada waktu weekend"
   ]
  },
  {
   "cell_type": "code",
   "execution_count": 15,
   "id": "1e91f546",
   "metadata": {},
   "outputs": [
    {
     "data": {
      "text/plain": [
       "Timestamp('2022-07-06 00:00:00')"
      ]
     },
     "execution_count": 15,
     "metadata": {},
     "output_type": "execute_result"
    }
   ],
   "source": [
    "df_bandung.time.min()"
   ]
  },
  {
   "cell_type": "code",
   "execution_count": 16,
   "id": "f0e35955",
   "metadata": {
    "scrolled": true
   },
   "outputs": [
    {
     "data": {
      "text/plain": [
       "Timestamp('2022-09-06 00:00:00')"
      ]
     },
     "execution_count": 16,
     "metadata": {},
     "output_type": "execute_result"
    }
   ],
   "source": [
    "df_bandung.time.max()"
   ]
  },
  {
   "cell_type": "code",
   "execution_count": 21,
   "id": "be5be593",
   "metadata": {},
   "outputs": [
    {
     "data": {
      "text/html": [
       "<div>\n",
       "<style scoped>\n",
       "    .dataframe tbody tr th:only-of-type {\n",
       "        vertical-align: middle;\n",
       "    }\n",
       "\n",
       "    .dataframe tbody tr th {\n",
       "        vertical-align: top;\n",
       "    }\n",
       "\n",
       "    .dataframe thead th {\n",
       "        text-align: right;\n",
       "    }\n",
       "</style>\n",
       "<table border=\"1\" class=\"dataframe\">\n",
       "  <thead>\n",
       "    <tr style=\"text-align: right;\">\n",
       "      <th></th>\n",
       "      <th>id</th>\n",
       "      <th>time</th>\n",
       "      <th>kemendagri_kabupaten_kode</th>\n",
       "      <th>kemendagri_kabupaten_nama</th>\n",
       "      <th>street</th>\n",
       "      <th>type</th>\n",
       "      <th>avg_location</th>\n",
       "      <th>total_records</th>\n",
       "      <th>date</th>\n",
       "      <th>hari</th>\n",
       "    </tr>\n",
       "  </thead>\n",
       "  <tbody>\n",
       "    <tr>\n",
       "      <th>1611</th>\n",
       "      <td>5944328</td>\n",
       "      <td>2022-07-09 06:00:00</td>\n",
       "      <td>32.73</td>\n",
       "      <td>KOTA BANDUNG</td>\n",
       "      <td>Gerbang Tol Gede Bage</td>\n",
       "      <td>ROAD_CLOSED</td>\n",
       "      <td>[107.69057999999981, -6.959956500000006]</td>\n",
       "      <td>120</td>\n",
       "      <td>2022-07-09</td>\n",
       "      <td>Saturday</td>\n",
       "    </tr>\n",
       "    <tr>\n",
       "      <th>5559</th>\n",
       "      <td>5984615</td>\n",
       "      <td>2022-07-17 13:00:00</td>\n",
       "      <td>32.73</td>\n",
       "      <td>KOTA BANDUNG</td>\n",
       "      <td>Jenderal Ahmad Yani</td>\n",
       "      <td>JAM</td>\n",
       "      <td>[107.622631, -6.919614]</td>\n",
       "      <td>4</td>\n",
       "      <td>2022-07-17</td>\n",
       "      <td>Sunday</td>\n",
       "    </tr>\n",
       "    <tr>\n",
       "      <th>4940</th>\n",
       "      <td>5977937</td>\n",
       "      <td>2022-07-16 14:00:00</td>\n",
       "      <td>32.73</td>\n",
       "      <td>KOTA BANDUNG</td>\n",
       "      <td>Karasak</td>\n",
       "      <td>WEATHERHAZARD</td>\n",
       "      <td>[107.60463400000003, -6.949103999999993]</td>\n",
       "      <td>60</td>\n",
       "      <td>2022-07-16</td>\n",
       "      <td>Saturday</td>\n",
       "    </tr>\n",
       "    <tr>\n",
       "      <th>15641</th>\n",
       "      <td>6079913</td>\n",
       "      <td>2022-08-06 18:00:00</td>\n",
       "      <td>32.73</td>\n",
       "      <td>KOTA BANDUNG</td>\n",
       "      <td>Sederhana</td>\n",
       "      <td>JAM</td>\n",
       "      <td>[107.59972, -6.890488]</td>\n",
       "      <td>6</td>\n",
       "      <td>2022-08-06</td>\n",
       "      <td>Saturday</td>\n",
       "    </tr>\n",
       "    <tr>\n",
       "      <th>25389</th>\n",
       "      <td>6175680</td>\n",
       "      <td>2022-08-27 10:00:00</td>\n",
       "      <td>32.73</td>\n",
       "      <td>KOTA BANDUNG</td>\n",
       "      <td>Cibaduyut Raya</td>\n",
       "      <td>ROAD_CLOSED</td>\n",
       "      <td>[107.59526000000004, -6.9472129999999925]</td>\n",
       "      <td>60</td>\n",
       "      <td>2022-08-27</td>\n",
       "      <td>Saturday</td>\n",
       "    </tr>\n",
       "  </tbody>\n",
       "</table>\n",
       "</div>"
      ],
      "text/plain": [
       "            id                time  kemendagri_kabupaten_kode  \\\n",
       "1611   5944328 2022-07-09 06:00:00                      32.73   \n",
       "5559   5984615 2022-07-17 13:00:00                      32.73   \n",
       "4940   5977937 2022-07-16 14:00:00                      32.73   \n",
       "15641  6079913 2022-08-06 18:00:00                      32.73   \n",
       "25389  6175680 2022-08-27 10:00:00                      32.73   \n",
       "\n",
       "      kemendagri_kabupaten_nama                 street           type  \\\n",
       "1611               KOTA BANDUNG  Gerbang Tol Gede Bage    ROAD_CLOSED   \n",
       "5559               KOTA BANDUNG    Jenderal Ahmad Yani            JAM   \n",
       "4940               KOTA BANDUNG                Karasak  WEATHERHAZARD   \n",
       "15641              KOTA BANDUNG              Sederhana            JAM   \n",
       "25389              KOTA BANDUNG         Cibaduyut Raya    ROAD_CLOSED   \n",
       "\n",
       "                                    avg_location  total_records        date  \\\n",
       "1611    [107.69057999999981, -6.959956500000006]            120  2022-07-09   \n",
       "5559                     [107.622631, -6.919614]              4  2022-07-17   \n",
       "4940    [107.60463400000003, -6.949103999999993]             60  2022-07-16   \n",
       "15641                     [107.59972, -6.890488]              6  2022-08-06   \n",
       "25389  [107.59526000000004, -6.9472129999999925]             60  2022-08-27   \n",
       "\n",
       "           hari  \n",
       "1611   Saturday  \n",
       "5559     Sunday  \n",
       "4940   Saturday  \n",
       "15641  Saturday  \n",
       "25389  Saturday  "
      ]
     },
     "execution_count": 21,
     "metadata": {},
     "output_type": "execute_result"
    }
   ],
   "source": [
    "# Membuat kolom baru bernama 'hari' yang berisi nama hari dari kolom 'waktu'\n",
    "df_bandung['hari'] = df_bandung['time'].dt.day_name()\n",
    "\n",
    "# Mengambil data pada hari weekend saja (Sabtu atau Minggu)\n",
    "df_bandung_weekend = df_bandung[(df_bandung['hari'] == 'Saturday') | (df_bandung['hari'] == 'Sunday')]\n",
    "\n",
    "# Ambil sample data\n",
    "df_bandung_weekend.sample(5)"
   ]
  },
  {
   "cell_type": "code",
   "execution_count": 28,
   "id": "f89fc823",
   "metadata": {},
   "outputs": [
    {
     "data": {
      "text/plain": [
       "521"
      ]
     },
     "execution_count": 28,
     "metadata": {},
     "output_type": "execute_result"
    }
   ],
   "source": [
    "df_bandung_weekend.street.nunique()"
   ]
  },
  {
   "cell_type": "code",
   "execution_count": 27,
   "id": "12441fdb",
   "metadata": {},
   "outputs": [
    {
     "data": {
      "text/plain": [
       "<pandas.core.groupby.generic.DataFrameGroupBy object at 0x000002B6FD711D60>"
      ]
     },
     "execution_count": 27,
     "metadata": {},
     "output_type": "execute_result"
    }
   ],
   "source": [
    "grouped"
   ]
  },
  {
   "cell_type": "code",
   "execution_count": null,
   "id": "6a4b3f3f",
   "metadata": {},
   "outputs": [],
   "source": []
  }
 ],
 "metadata": {
  "kernelspec": {
   "display_name": "Python 3 (ipykernel)",
   "language": "python",
   "name": "python3"
  },
  "language_info": {
   "codemirror_mode": {
    "name": "ipython",
    "version": 3
   },
   "file_extension": ".py",
   "mimetype": "text/x-python",
   "name": "python",
   "nbconvert_exporter": "python",
   "pygments_lexer": "ipython3",
   "version": "3.9.12"
  },
  "toc": {
   "base_numbering": 1,
   "nav_menu": {},
   "number_sections": true,
   "sideBar": true,
   "skip_h1_title": false,
   "title_cell": "Table of Contents",
   "title_sidebar": "Contents",
   "toc_cell": false,
   "toc_position": {},
   "toc_section_display": true,
   "toc_window_display": false
  },
  "varInspector": {
   "cols": {
    "lenName": 16,
    "lenType": 16,
    "lenVar": 40
   },
   "kernels_config": {
    "python": {
     "delete_cmd_postfix": "",
     "delete_cmd_prefix": "del ",
     "library": "var_list.py",
     "varRefreshCmd": "print(var_dic_list())"
    },
    "r": {
     "delete_cmd_postfix": ") ",
     "delete_cmd_prefix": "rm(",
     "library": "var_list.r",
     "varRefreshCmd": "cat(var_dic_list()) "
    }
   },
   "types_to_exclude": [
    "module",
    "function",
    "builtin_function_or_method",
    "instance",
    "_Feature"
   ],
   "window_display": false
  }
 },
 "nbformat": 4,
 "nbformat_minor": 5
}
